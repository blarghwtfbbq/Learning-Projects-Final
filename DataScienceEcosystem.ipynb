{
 "cells": [
  {
   "cell_type": "markdown",
   "id": "eed50432-c240-452c-baeb-c883256e47a8",
   "metadata": {},
   "source": [
    "# Data Science Tools and Ecosystem\n",
    "In this notebook, Data Science Tools and Ecosystem are summarized."
   ]
  },
  {
   "cell_type": "markdown",
   "id": "d09b4f5e-509e-4bb9-b3be-73c2a1e6cb3e",
   "metadata": {},
   "source": [
    "## Author\n",
    "Lawrence Chinn"
   ]
  },
  {
   "cell_type": "markdown",
   "id": "b9683039-5e00-4938-9d80-0abce1be9080",
   "metadata": {},
   "source": [
    "**Objectives:**\n",
    "- List popular languages for Data Science\n",
    "- Explain the basics of machine learning algorithms\n",
    "- Demonstrate data visualization techniques\n",
    "- Showcase data manipulation with Pandas\n",
    "- Highlight key libraries for data analysis"
   ]
  },
  {
   "cell_type": "markdown",
   "id": "01e31bf4-8292-4e80-9706-0388539951cf",
   "metadata": {},
   "source": [
    "# Some of the popular languages that Data Scientists use are:"
   ]
  },
  {
   "cell_type": "markdown",
   "id": "103ec163-9ce1-4079-9121-e610630f63f6",
   "metadata": {},
   "source": [
    "1. R\n",
    "2. Python\n",
    "3. SQL\n",
    "4. SAS\n",
    "5. MATLAB"
   ]
  },
  {
   "cell_type": "markdown",
   "id": "8adb96a1-201c-4bb9-ab57-fe16a6db2dec",
   "metadata": {},
   "source": [
    "# Some of the commonly used libraries used by Data Scientists include:"
   ]
  },
  {
   "cell_type": "markdown",
   "id": "5fd6333e-3cae-4b16-b8f4-19d142a60ae5",
   "metadata": {},
   "source": [
    "1. Pandas\n",
    "2. NumPy\n",
    "3. Scikit-learn\n",
    "4. Matplotlib\n",
    "5. TensorFlow"
   ]
  },
  {
   "cell_type": "markdown",
   "id": "10abf3a6-ac16-4bb8-b672-0284812ab07c",
   "metadata": {},
   "source": [
    "| Data Science Tools |\n",
    "|--------------------|\n",
    "| Jupyter Notebooks |\n",
    "| RStudio |\n",
    "| Spyder |"
   ]
  },
  {
   "cell_type": "markdown",
   "id": "4104b081-da18-4517-afa6-94acd1e88405",
   "metadata": {},
   "source": [
    "### Below are a few examples of evaluating arithmetic expressions in Python"
   ]
  },
  {
   "cell_type": "markdown",
   "id": "92b6c991-7f30-4059-9e45-4ef6b6f1bb2c",
   "metadata": {},
   "source": [
    "### This a simple arithmetic expression to multiply then add integers"
   ]
  },
  {
   "cell_type": "code",
   "execution_count": 1,
   "id": "323f46cb-2ac1-4cb8-9e8c-2334335fe3a2",
   "metadata": {},
   "outputs": [
    {
     "data": {
      "text/plain": [
       "17"
      ]
     },
     "execution_count": 1,
     "metadata": {},
     "output_type": "execute_result"
    }
   ],
   "source": [
    "(3 * 4) + 5"
   ]
  },
  {
   "cell_type": "markdown",
   "id": "a2d794b1-5f75-4e8a-851e-b460b367db85",
   "metadata": {},
   "source": [
    "### This will convert 200 minutes to hours by diving by 60"
   ]
  },
  {
   "cell_type": "code",
   "execution_count": 2,
   "id": "3b3c32ab-146a-460c-8c50-2908349a7c90",
   "metadata": {},
   "outputs": [
    {
     "name": "stdout",
     "output_type": "stream",
     "text": [
      "200 minutes is equal to 3.3333333333333335 hours\n"
     ]
    }
   ],
   "source": [
    "minutes = 200\n",
    "hours = minutes / 60\n",
    "print(f\"{minutes} minutes is equal to {hours} hours\")"
   ]
  }
 ],
 "metadata": {
  "kernelspec": {
   "display_name": "Python 3 (ipykernel)",
   "language": "python",
   "name": "python3"
  },
  "language_info": {
   "codemirror_mode": {
    "name": "ipython",
    "version": 3
   },
   "file_extension": ".py",
   "mimetype": "text/x-python",
   "name": "python",
   "nbconvert_exporter": "python",
   "pygments_lexer": "ipython3",
   "version": "3.11.9"
  }
 },
 "nbformat": 4,
 "nbformat_minor": 5
}
